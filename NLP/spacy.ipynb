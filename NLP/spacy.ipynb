{
 "cells": [
  {
   "cell_type": "markdown",
   "metadata": {},
   "source": [
    "# Learning how I can utilize spacy\n",
    "\n",
    "- Spacy, a python lib, to be used in this project to train a model "
   ]
  },
  {
   "cell_type": "markdown",
   "metadata": {},
   "source": [
    "# Installation\n",
    "- Installing spacy using pip\n",
    "- Installing the pretrained EN NLP model for testing"
   ]
  },
  {
   "cell_type": "code",
   "execution_count": 3,
   "metadata": {
    "vscode": {
     "languageId": "powershell"
    }
   },
   "outputs": [
    {
     "name": "stdout",
     "output_type": "stream",
     "text": [
      "Requirement already satisfied: spacy in c:\\users\\user\\appdata\\local\\packages\\pythonsoftwarefoundation.python.3.10_qbz5n2kfra8p0\\localcache\\local-packages\\python310\\site-packages (3.8.4)\n",
      "Requirement already satisfied: spacy-legacy<3.1.0,>=3.0.11 in c:\\users\\user\\appdata\\local\\packages\\pythonsoftwarefoundation.python.3.10_qbz5n2kfra8p0\\localcache\\local-packages\\python310\\site-packages (from spacy) (3.0.12)\n",
      "Requirement already satisfied: spacy-loggers<2.0.0,>=1.0.0 in c:\\users\\user\\appdata\\local\\packages\\pythonsoftwarefoundation.python.3.10_qbz5n2kfra8p0\\localcache\\local-packages\\python310\\site-packages (from spacy) (1.0.5)\n",
      "Requirement already satisfied: murmurhash<1.1.0,>=0.28.0 in c:\\users\\user\\appdata\\local\\packages\\pythonsoftwarefoundation.python.3.10_qbz5n2kfra8p0\\localcache\\local-packages\\python310\\site-packages (from spacy) (1.0.12)\n",
      "Requirement already satisfied: cymem<2.1.0,>=2.0.2 in c:\\users\\user\\appdata\\local\\packages\\pythonsoftwarefoundation.python.3.10_qbz5n2kfra8p0\\localcache\\local-packages\\python310\\site-packages (from spacy) (2.0.11)\n",
      "Requirement already satisfied: preshed<3.1.0,>=3.0.2 in c:\\users\\user\\appdata\\local\\packages\\pythonsoftwarefoundation.python.3.10_qbz5n2kfra8p0\\localcache\\local-packages\\python310\\site-packages (from spacy) (3.0.9)\n",
      "Requirement already satisfied: thinc<8.4.0,>=8.3.4 in c:\\users\\user\\appdata\\local\\packages\\pythonsoftwarefoundation.python.3.10_qbz5n2kfra8p0\\localcache\\local-packages\\python310\\site-packages (from spacy) (8.3.4)\n",
      "Requirement already satisfied: wasabi<1.2.0,>=0.9.1 in c:\\users\\user\\appdata\\local\\packages\\pythonsoftwarefoundation.python.3.10_qbz5n2kfra8p0\\localcache\\local-packages\\python310\\site-packages (from spacy) (1.1.3)\n",
      "Requirement already satisfied: srsly<3.0.0,>=2.4.3 in c:\\users\\user\\appdata\\local\\packages\\pythonsoftwarefoundation.python.3.10_qbz5n2kfra8p0\\localcache\\local-packages\\python310\\site-packages (from spacy) (2.5.1)\n",
      "Requirement already satisfied: catalogue<2.1.0,>=2.0.6 in c:\\users\\user\\appdata\\local\\packages\\pythonsoftwarefoundation.python.3.10_qbz5n2kfra8p0\\localcache\\local-packages\\python310\\site-packages (from spacy) (2.0.10)\n",
      "Requirement already satisfied: weasel<0.5.0,>=0.1.0 in c:\\users\\user\\appdata\\local\\packages\\pythonsoftwarefoundation.python.3.10_qbz5n2kfra8p0\\localcache\\local-packages\\python310\\site-packages (from spacy) (0.4.1)\n",
      "Requirement already satisfied: typer<1.0.0,>=0.3.0 in c:\\users\\user\\appdata\\local\\packages\\pythonsoftwarefoundation.python.3.10_qbz5n2kfra8p0\\localcache\\local-packages\\python310\\site-packages (from spacy) (0.15.1)\n",
      "Requirement already satisfied: tqdm<5.0.0,>=4.38.0 in c:\\users\\user\\appdata\\local\\packages\\pythonsoftwarefoundation.python.3.10_qbz5n2kfra8p0\\localcache\\local-packages\\python310\\site-packages (from spacy) (4.67.1)\n",
      "Requirement already satisfied: numpy>=1.19.0 in c:\\users\\user\\appdata\\local\\packages\\pythonsoftwarefoundation.python.3.10_qbz5n2kfra8p0\\localcache\\local-packages\\python310\\site-packages (from spacy) (1.26.4)\n",
      "Requirement already satisfied: requests<3.0.0,>=2.13.0 in c:\\users\\user\\appdata\\local\\packages\\pythonsoftwarefoundation.python.3.10_qbz5n2kfra8p0\\localcache\\local-packages\\python310\\site-packages (from spacy) (2.32.3)\n",
      "Requirement already satisfied: pydantic!=1.8,!=1.8.1,<3.0.0,>=1.7.4 in c:\\users\\user\\appdata\\local\\packages\\pythonsoftwarefoundation.python.3.10_qbz5n2kfra8p0\\localcache\\local-packages\\python310\\site-packages (from spacy) (2.10.6)\n",
      "Requirement already satisfied: jinja2 in c:\\users\\user\\appdata\\local\\packages\\pythonsoftwarefoundation.python.3.10_qbz5n2kfra8p0\\localcache\\local-packages\\python310\\site-packages (from spacy) (3.1.5)\n",
      "Requirement already satisfied: setuptools in c:\\program files\\windowsapps\\pythonsoftwarefoundation.python.3.10_3.10.3056.0_x64__qbz5n2kfra8p0\\lib\\site-packages (from spacy) (65.5.0)\n",
      "Requirement already satisfied: packaging>=20.0 in c:\\users\\user\\appdata\\local\\packages\\pythonsoftwarefoundation.python.3.10_qbz5n2kfra8p0\\localcache\\local-packages\\python310\\site-packages (from spacy) (24.2)\n",
      "Requirement already satisfied: langcodes<4.0.0,>=3.2.0 in c:\\users\\user\\appdata\\local\\packages\\pythonsoftwarefoundation.python.3.10_qbz5n2kfra8p0\\localcache\\local-packages\\python310\\site-packages (from spacy) (3.5.0)\n",
      "Requirement already satisfied: language-data>=1.2 in c:\\users\\user\\appdata\\local\\packages\\pythonsoftwarefoundation.python.3.10_qbz5n2kfra8p0\\localcache\\local-packages\\python310\\site-packages (from langcodes<4.0.0,>=3.2.0->spacy) (1.3.0)\n",
      "Requirement already satisfied: annotated-types>=0.6.0 in c:\\users\\user\\appdata\\local\\packages\\pythonsoftwarefoundation.python.3.10_qbz5n2kfra8p0\\localcache\\local-packages\\python310\\site-packages (from pydantic!=1.8,!=1.8.1,<3.0.0,>=1.7.4->spacy) (0.7.0)\n",
      "Requirement already satisfied: pydantic-core==2.27.2 in c:\\users\\user\\appdata\\local\\packages\\pythonsoftwarefoundation.python.3.10_qbz5n2kfra8p0\\localcache\\local-packages\\python310\\site-packages (from pydantic!=1.8,!=1.8.1,<3.0.0,>=1.7.4->spacy) (2.27.2)\n",
      "Requirement already satisfied: typing-extensions>=4.12.2 in c:\\users\\user\\appdata\\local\\packages\\pythonsoftwarefoundation.python.3.10_qbz5n2kfra8p0\\localcache\\local-packages\\python310\\site-packages (from pydantic!=1.8,!=1.8.1,<3.0.0,>=1.7.4->spacy) (4.12.2)\n",
      "Requirement already satisfied: charset-normalizer<4,>=2 in c:\\users\\user\\appdata\\local\\packages\\pythonsoftwarefoundation.python.3.10_qbz5n2kfra8p0\\localcache\\local-packages\\python310\\site-packages (from requests<3.0.0,>=2.13.0->spacy) (3.4.0)\n",
      "Requirement already satisfied: idna<4,>=2.5 in c:\\users\\user\\appdata\\local\\packages\\pythonsoftwarefoundation.python.3.10_qbz5n2kfra8p0\\localcache\\local-packages\\python310\\site-packages (from requests<3.0.0,>=2.13.0->spacy) (3.10)\n",
      "Requirement already satisfied: urllib3<3,>=1.21.1 in c:\\users\\user\\appdata\\local\\packages\\pythonsoftwarefoundation.python.3.10_qbz5n2kfra8p0\\localcache\\local-packages\\python310\\site-packages (from requests<3.0.0,>=2.13.0->spacy) (2.2.3)\n",
      "Requirement already satisfied: certifi>=2017.4.17 in c:\\users\\user\\appdata\\local\\packages\\pythonsoftwarefoundation.python.3.10_qbz5n2kfra8p0\\localcache\\local-packages\\python310\\site-packages (from requests<3.0.0,>=2.13.0->spacy) (2024.8.30)\n",
      "Requirement already satisfied: blis<1.3.0,>=1.2.0 in c:\\users\\user\\appdata\\local\\packages\\pythonsoftwarefoundation.python.3.10_qbz5n2kfra8p0\\localcache\\local-packages\\python310\\site-packages (from thinc<8.4.0,>=8.3.4->spacy) (1.2.0)\n",
      "Requirement already satisfied: confection<1.0.0,>=0.0.1 in c:\\users\\user\\appdata\\local\\packages\\pythonsoftwarefoundation.python.3.10_qbz5n2kfra8p0\\localcache\\local-packages\\python310\\site-packages (from thinc<8.4.0,>=8.3.4->spacy) (0.1.5)\n",
      "Requirement already satisfied: colorama in c:\\users\\user\\appdata\\local\\packages\\pythonsoftwarefoundation.python.3.10_qbz5n2kfra8p0\\localcache\\local-packages\\python310\\site-packages (from tqdm<5.0.0,>=4.38.0->spacy) (0.4.6)\n",
      "Requirement already satisfied: click>=8.0.0 in c:\\users\\user\\appdata\\local\\packages\\pythonsoftwarefoundation.python.3.10_qbz5n2kfra8p0\\localcache\\local-packages\\python310\\site-packages (from typer<1.0.0,>=0.3.0->spacy) (8.1.8)\n",
      "Requirement already satisfied: shellingham>=1.3.0 in c:\\users\\user\\appdata\\local\\packages\\pythonsoftwarefoundation.python.3.10_qbz5n2kfra8p0\\localcache\\local-packages\\python310\\site-packages (from typer<1.0.0,>=0.3.0->spacy) (1.5.4)\n",
      "Requirement already satisfied: rich>=10.11.0 in c:\\users\\user\\appdata\\local\\packages\\pythonsoftwarefoundation.python.3.10_qbz5n2kfra8p0\\localcache\\local-packages\\python310\\site-packages (from typer<1.0.0,>=0.3.0->spacy) (13.9.4)\n",
      "Requirement already satisfied: cloudpathlib<1.0.0,>=0.7.0 in c:\\users\\user\\appdata\\local\\packages\\pythonsoftwarefoundation.python.3.10_qbz5n2kfra8p0\\localcache\\local-packages\\python310\\site-packages (from weasel<0.5.0,>=0.1.0->spacy) (0.20.0)\n",
      "Requirement already satisfied: smart-open<8.0.0,>=5.2.1 in c:\\users\\user\\appdata\\local\\packages\\pythonsoftwarefoundation.python.3.10_qbz5n2kfra8p0\\localcache\\local-packages\\python310\\site-packages (from weasel<0.5.0,>=0.1.0->spacy) (7.1.0)\n",
      "Requirement already satisfied: MarkupSafe>=2.0 in c:\\users\\user\\appdata\\local\\packages\\pythonsoftwarefoundation.python.3.10_qbz5n2kfra8p0\\localcache\\local-packages\\python310\\site-packages (from jinja2->spacy) (3.0.2)\n",
      "Requirement already satisfied: marisa-trie>=1.1.0 in c:\\users\\user\\appdata\\local\\packages\\pythonsoftwarefoundation.python.3.10_qbz5n2kfra8p0\\localcache\\local-packages\\python310\\site-packages (from language-data>=1.2->langcodes<4.0.0,>=3.2.0->spacy) (1.2.1)\n",
      "Requirement already satisfied: markdown-it-py>=2.2.0 in c:\\users\\user\\appdata\\local\\packages\\pythonsoftwarefoundation.python.3.10_qbz5n2kfra8p0\\localcache\\local-packages\\python310\\site-packages (from rich>=10.11.0->typer<1.0.0,>=0.3.0->spacy) (3.0.0)\n",
      "Requirement already satisfied: pygments<3.0.0,>=2.13.0 in c:\\users\\user\\appdata\\local\\packages\\pythonsoftwarefoundation.python.3.10_qbz5n2kfra8p0\\localcache\\local-packages\\python310\\site-packages (from rich>=10.11.0->typer<1.0.0,>=0.3.0->spacy) (2.18.0)\n",
      "Requirement already satisfied: wrapt in c:\\users\\user\\appdata\\local\\packages\\pythonsoftwarefoundation.python.3.10_qbz5n2kfra8p0\\localcache\\local-packages\\python310\\site-packages (from smart-open<8.0.0,>=5.2.1->weasel<0.5.0,>=0.1.0->spacy) (1.16.0)\n",
      "Requirement already satisfied: mdurl~=0.1 in c:\\users\\user\\appdata\\local\\packages\\pythonsoftwarefoundation.python.3.10_qbz5n2kfra8p0\\localcache\\local-packages\\python310\\site-packages (from markdown-it-py>=2.2.0->rich>=10.11.0->typer<1.0.0,>=0.3.0->spacy) (0.1.2)\n"
     ]
    },
    {
     "name": "stderr",
     "output_type": "stream",
     "text": [
      "WARNING: Ignoring invalid distribution -ivymd (c:\\users\\user\\appdata\\local\\packages\\pythonsoftwarefoundation.python.3.10_qbz5n2kfra8p0\\localcache\\local-packages\\python310\\site-packages)\n",
      "WARNING: Ignoring invalid distribution -ivymd (c:\\users\\user\\appdata\\local\\packages\\pythonsoftwarefoundation.python.3.10_qbz5n2kfra8p0\\localcache\\local-packages\\python310\\site-packages)\n",
      "WARNING: Ignoring invalid distribution -ivymd (c:\\users\\user\\appdata\\local\\packages\\pythonsoftwarefoundation.python.3.10_qbz5n2kfra8p0\\localcache\\local-packages\\python310\\site-packages)\n",
      "WARNING: Ignoring invalid distribution -ivymd (c:\\users\\user\\appdata\\local\\packages\\pythonsoftwarefoundation.python.3.10_qbz5n2kfra8p0\\localcache\\local-packages\\python310\\site-packages)\n",
      "\n",
      "[notice] A new release of pip is available: 25.0 -> 25.0.1\n",
      "[notice] To update, run: C:\\Users\\User\\AppData\\Local\\Microsoft\\WindowsApps\\PythonSoftwareFoundation.Python.3.10_qbz5n2kfra8p0\\python.exe -m pip install --upgrade pip\n"
     ]
    },
    {
     "name": "stdout",
     "output_type": "stream",
     "text": [
      "Collecting en-core-web-sm==3.8.0\n",
      "  Downloading https://github.com/explosion/spacy-models/releases/download/en_core_web_sm-3.8.0/en_core_web_sm-3.8.0-py3-none-any.whl (12.8 MB)\n",
      "     ---------------------------------------- 0.0/12.8 MB ? eta -:--:--\n",
      "     ---------------------------------------- 0.0/12.8 MB ? eta -:--:--\n",
      "     - -------------------------------------- 0.5/12.8 MB 1.7 MB/s eta 0:00:08\n",
      "     -- ------------------------------------- 0.8/12.8 MB 1.9 MB/s eta 0:00:07\n",
      "     --- ------------------------------------ 1.0/12.8 MB 1.7 MB/s eta 0:00:08\n",
      "     ---- ----------------------------------- 1.3/12.8 MB 1.7 MB/s eta 0:00:07\n",
      "     ---- ----------------------------------- 1.6/12.8 MB 1.5 MB/s eta 0:00:08\n",
      "     ------ --------------------------------- 2.1/12.8 MB 1.6 MB/s eta 0:00:07\n",
      "     ------- -------------------------------- 2.4/12.8 MB 1.6 MB/s eta 0:00:07\n",
      "     --------- ------------------------------ 2.9/12.8 MB 1.6 MB/s eta 0:00:07\n",
      "     --------- ------------------------------ 3.1/12.8 MB 1.7 MB/s eta 0:00:06\n",
      "     ----------- ---------------------------- 3.7/12.8 MB 1.7 MB/s eta 0:00:06\n",
      "     ------------- -------------------------- 4.2/12.8 MB 1.8 MB/s eta 0:00:05\n",
      "     --------------- ------------------------ 5.0/12.8 MB 1.9 MB/s eta 0:00:05\n",
      "     ------------------ --------------------- 5.8/12.8 MB 2.1 MB/s eta 0:00:04\n",
      "     -------------------- ------------------- 6.6/12.8 MB 2.2 MB/s eta 0:00:03\n",
      "     --------------------- ------------------ 6.8/12.8 MB 2.2 MB/s eta 0:00:03\n",
      "     --------------------- ------------------ 6.8/12.8 MB 2.2 MB/s eta 0:00:03\n",
      "     ---------------------- ----------------- 7.3/12.8 MB 2.0 MB/s eta 0:00:03\n",
      "     ----------------------- ---------------- 7.6/12.8 MB 2.0 MB/s eta 0:00:03\n",
      "     ------------------------- -------------- 8.1/12.8 MB 2.0 MB/s eta 0:00:03\n",
      "     -------------------------- ------------- 8.4/12.8 MB 2.0 MB/s eta 0:00:03\n",
      "     --------------------------- ------------ 8.9/12.8 MB 2.0 MB/s eta 0:00:02\n",
      "     ------------------------------ --------- 9.7/12.8 MB 2.1 MB/s eta 0:00:02\n",
      "     -------------------------------- ------- 10.5/12.8 MB 2.1 MB/s eta 0:00:02\n",
      "     ---------------------------------- ----- 11.0/12.8 MB 2.1 MB/s eta 0:00:01\n",
      "     ------------------------------------ --- 11.5/12.8 MB 2.2 MB/s eta 0:00:01\n",
      "     ------------------------------------- -- 12.1/12.8 MB 2.2 MB/s eta 0:00:01\n",
      "     ---------------------------------------- 12.8/12.8 MB 2.2 MB/s eta 0:00:00\n",
      "\u001b[38;5;2m✔ Download and installation successful\u001b[0m\n",
      "You can now load the package via spacy.load('en_core_web_sm')\n"
     ]
    },
    {
     "name": "stderr",
     "output_type": "stream",
     "text": [
      "WARNING: Ignoring invalid distribution -ivymd (c:\\users\\user\\appdata\\local\\packages\\pythonsoftwarefoundation.python.3.10_qbz5n2kfra8p0\\localcache\\local-packages\\python310\\site-packages)\n",
      "WARNING: Ignoring invalid distribution -ivymd (c:\\users\\user\\appdata\\local\\packages\\pythonsoftwarefoundation.python.3.10_qbz5n2kfra8p0\\localcache\\local-packages\\python310\\site-packages)\n",
      "WARNING: Ignoring invalid distribution -ivymd (c:\\users\\user\\appdata\\local\\packages\\pythonsoftwarefoundation.python.3.10_qbz5n2kfra8p0\\localcache\\local-packages\\python310\\site-packages)\n",
      "WARNING: Ignoring invalid distribution -ivymd (c:\\users\\user\\appdata\\local\\packages\\pythonsoftwarefoundation.python.3.10_qbz5n2kfra8p0\\localcache\\local-packages\\python310\\site-packages)\n",
      "\n",
      "[notice] A new release of pip is available: 25.0 -> 25.0.1\n",
      "[notice] To update, run: C:\\Users\\User\\AppData\\Local\\Microsoft\\WindowsApps\\PythonSoftwareFoundation.Python.3.10_qbz5n2kfra8p0\\python.exe -m pip install --upgrade pip\n"
     ]
    }
   ],
   "source": [
    "!pip install spacy\n",
    "\n",
    "!python -m spacy download en_core_web_sm"
   ]
  },
  {
   "cell_type": "markdown",
   "metadata": {},
   "source": [
    "## Importing Spacy and doing some trials\n",
    "\n",
    "- The bottom cell imports the `spacy` library and loads the English NLP model. It processes a sample text \"Apple is looking at buying a UK startup for $1 billion.\" to create a `doc` object. The code then iterates over the named entities in the `doc` and prints each entity's text and label."
   ]
  },
  {
   "cell_type": "code",
   "execution_count": 4,
   "metadata": {},
   "outputs": [
    {
     "name": "stdout",
     "output_type": "stream",
     "text": [
      "ANGA Hub ORG\n",
      "Western NORP\n",
      "$1 billion MONEY\n"
     ]
    }
   ],
   "source": [
    "import spacy\n",
    "\n",
    "# Load the English NLP model\n",
    "nlp = spacy.load(\"en_core_web_sm\")\n",
    "\n",
    "# Process a text\n",
    "doc = nlp(\"ANGA Hub is looking at buying a Western startup for $1 billion.\")\n",
    "\n",
    "# Extract entities\n",
    "for ent in doc.ents:\n",
    "    print(ent.text, ent.label_)"
   ]
  },
  {
   "cell_type": "markdown",
   "metadata": {},
   "source": [
    "## Training with Spacy\n",
    "### Libraries\n",
    "\n",
    "- importing all the required libraries\n",
    "    - `spacy` a powerful NLP framework used for training, fine-tuning, and deploying NER models\n",
    "    - `DocBin` is a utility for efficiently storing and serializing multiple Doc objects. During training, labeled examples (text + entity annotations) need to be converted into **spaCy’s** `Doc` **objects**. `DocBin` helps **store**, **serialize**, and **load** these efficiently, reducing memory usage.\n",
    "    - `Example` is used to create training instances that contain; the *input text* (`Doc`) and the correct *entity labels* (*annotations*). Essential for model training, as `Example` objects guide the model in learning patterns from labeled data.\n",
    "    -  `filter_spans()` helps resolve **overlapping entity annotations** by keeping only the most relevant ones. In cases where multiple entity spans overlap, `filter_spans` ensures that only **non-overlapping** and **meaningful** annotations are kept, improving model performance.\n",
    "    - `json` Allows handling of **JSON** files, which in this case have been used storing labeled *NER training data*.\n"
   ]
  },
  {
   "cell_type": "code",
   "execution_count": 15,
   "metadata": {},
   "outputs": [],
   "source": [
    "import spacy\n",
    "from spacy.tokens import DocBin\n",
    "from spacy.training.example import Example\n",
    "from spacy.util import filter_spans\n",
    "import json"
   ]
  },
  {
   "cell_type": "markdown",
   "metadata": {},
   "source": [
    "### Loading JSON data for training\n",
    "- Using the JSON imported library to open the training data from the JSON file, `data.json`."
   ]
  },
  {
   "cell_type": "code",
   "execution_count": 14,
   "metadata": {},
   "outputs": [
    {
     "name": "stdout",
     "output_type": "stream",
     "text": [
      "[{'text': 'Pick up the red box from table A and place it on table B at 4 PM.', 'entities': [[12, 19, 'OBJECT'], [25, 32, 'LOCATION'], [49, 56, 'LOCATION'], [60, 64, 'TIME']]}, {'text': 'Move the blue box to table 5 before 10 AM.', 'entities': [[9, 17, 'OBJECT'], [21, 28, 'LOCATION'], [36, 41, 'TIME']]}, {'text': 'Transport the yellow box to table C at 2:30 PM.', 'entities': [[13, 24, 'OBJECT'], [28, 35, 'LOCATION'], [39, 46, 'TIME']]}, {'text': 'Shift the small box from table 3 to table 7 by 5:15 PM.', 'entities': [[10, 19, 'OBJECT'], [25, 32, 'LOCATION'], [36, 43, 'LOCATION'], [47, 54, 'TIME']]}, {'text': 'Retrieve the green box from table X and set it up on table Y at noon.', 'entities': [[13, 22, 'OBJECT'], [28, 35, 'LOCATION'], [53, 60, 'LOCATION'], [64, 68, 'TIME']]}, {'text': 'Deliver the big box to table 12 by 3 PM.', 'entities': [[12, 19, 'OBJECT'], [23, 31, 'LOCATION'], [35, 39, 'TIME']]}, {'text': 'Move the brown box to table B before 8 AM.', 'entities': [[9, 18, 'OBJECT'], [22, 29, 'LOCATION'], [37, 41, 'TIME']]}, {'text': 'Send the package box to table A at 6:45 AM.', 'entities': [[9, 20, 'OBJECT'], [24, 31, 'LOCATION'], [35, 42, 'TIME']]}, {'text': 'Take the cardboard box to table D by 11 AM.', 'entities': [[9, 22, 'OBJECT'], [26, 33, 'LOCATION'], [37, 42, 'TIME']]}, {'text': 'Bring the heavy box from table 6 and place it on table 9 at 7 PM.', 'entities': [[10, 19, 'OBJECT'], [25, 32, 'LOCATION'], [49, 56, 'LOCATION'], [60, 66, 'TIME']]}, {'text': 'Lift the silver box from shelf 2 and transfer it to rack 5 at 1 PM.', 'entities': [[9, 19, 'OBJECT'], [25, 32, 'LOCATION'], [52, 58, 'LOCATION'], [62, 66, 'TIME']]}, {'text': 'Shift the white container from station X to station Y by 4:45 PM.', 'entities': [[10, 25, 'OBJECT'], [31, 40, 'LOCATION'], [44, 53, 'LOCATION'], [57, 64, 'TIME']]}, {'text': 'Move the orange crate to bin 3 before noon.', 'entities': [[9, 21, 'OBJECT'], [25, 30, 'LOCATION'], [38, 42, 'TIME']]}, {'text': 'Retrieve the black package from section 7 and drop it at section 12 at 09:30 AM.', 'entities': [[13, 26, 'OBJECT'], [32, 41, 'LOCATION'], [57, 67, 'LOCATION'], [71, 79, 'TIME']]}, {'text': 'Deliver the large parcel to counter B before 6 PM.', 'entities': [[12, 24, 'OBJECT'], [28, 37, 'LOCATION'], [45, 49, 'TIME']]}, {'text': 'Pick up the metallic box from desk 4 and set it on shelf 8 at 10:15 AM.', 'entities': [[12, 24, 'OBJECT'], [30, 36, 'LOCATION'], [51, 58, 'LOCATION'], [62, 70, 'TIME']]}, {'text': 'Transport the heavy crate to loading bay C at 7:30 PM.', 'entities': [[13, 25, 'OBJECT'], [29, 42, 'LOCATION'], [46, 53, 'TIME']]}, {'text': 'Move the white package from locker 11 and store it in locker 15 by 12 PM.', 'entities': [[9, 22, 'OBJECT'], [28, 37, 'LOCATION'], [54, 63, 'LOCATION'], [67, 72, 'TIME']]}, {'text': 'Take the wooden chest to zone A before 8:30 AM.', 'entities': [[9, 21, 'OBJECT'], [25, 31, 'LOCATION'], [39, 46, 'TIME']]}, {'text': 'Send the lightweight box to panel 2 at 11:45 AM.', 'entities': [[9, 24, 'OBJECT'], [28, 35, 'LOCATION'], [39, 47, 'TIME']]}, {'text': 'Retrieve the gold box from section F and move it to table 3 at 2 PM.', 'entities': [[13, 21, 'OBJECT'], [27, 36, 'LOCATION'], [52, 59, 'LOCATION'], [63, 67, 'TIME']]}, {'text': 'Transfer the fragile box from shelf 9 and place it on counter 7 at 3:30 PM.', 'entities': [[13, 24, 'OBJECT'], [30, 37, 'LOCATION'], [54, 63, 'LOCATION'], [67, 74, 'TIME']]}, {'text': 'Bring the steel package to cabinet 4 before midnight.', 'entities': [[10, 23, 'OBJECT'], [27, 36, 'LOCATION'], [44, 52, 'TIME']]}, {'text': 'Shift the red suitcase from floor 1 to floor 3 at 9 PM.', 'entities': [[10, 22, 'OBJECT'], [28, 35, 'LOCATION'], [39, 46, 'LOCATION'], [50, 54, 'TIME']]}, {'text': 'Pick up the gray container from dock A and load it onto truck B at 5:45 PM.', 'entities': [[12, 26, 'OBJECT'], [32, 38, 'LOCATION'], [56, 63, 'LOCATION'], [67, 74, 'TIME']]}, {'text': 'Move the lightweight box to conveyor 10 by 8:15 AM.', 'entities': [[9, 24, 'OBJECT'], [28, 39, 'LOCATION'], [43, 50, 'TIME']]}, {'text': 'Transport the sealed package to area Z before 6:30 AM.', 'entities': [[14, 28, 'OBJECT'], [32, 38, 'LOCATION'], [46, 53, 'TIME']]}, {'text': 'Lift the plastic container from bay 5 and place it in bay 9 by 4 PM.', 'entities': [[9, 26, 'OBJECT'], [32, 37, 'LOCATION'], [54, 59, 'LOCATION'], [63, 67, 'TIME']]}, {'text': 'yes, that is correct!', 'entities': [[0, 3, 'CONFIRMATION']]}, {'text': 'okay, i got it.', 'entities': [[0, 4, 'CONFIRMATION']]}, {'text': 'sure, no problem!', 'entities': [[0, 4, 'CONFIRMATION']]}, {'text': \"great! let's proceed.\", 'entities': [[0, 5, 'CONFIRMATION']]}, {'text': 'absolutely! that works.', 'entities': [[0, 10, 'CONFIRMATION']]}, {'text': 'no, that is not right.', 'entities': [[0, 2, 'CANCELLATION']]}, {'text': 'nope, i disagree.', 'entities': [[0, 4, 'CANCELLATION']]}, {'text': \"not at all, that's incorrect.\", 'entities': [[0, 10, 'CANCELLATION']]}, {'text': \"wrong! that's not what i meant.\", 'entities': [[0, 5, 'CANCELLATION']]}, {'text': \"i don't think so, that's incorrect.\", 'entities': [[0, 16, 'CANCELLATION']]}, {'text': 'yes, absolutely, you got it!', 'entities': [[0, 3, 'CONFIRMATION']]}, {'text': \"yeah, that's fine!\", 'entities': [[0, 4, 'CONFIRMATION']]}, {'text': 'of course! go ahead.', 'entities': [[0, 9, 'CONFIRMATION']]}, {'text': 'correct, that is right!', 'entities': [[0, 7, 'CONFIRMATION']]}, {'text': 'sure thing! no issues.', 'entities': [[0, 10, 'CONFIRMATION']]}, {'text': \"no way, that's wrong!\", 'entities': [[0, 6, 'CANCELLATION']]}, {'text': 'not quite what i expected.', 'entities': [[0, 9, 'CANCELLATION']]}, {'text': \"that's not right at all!\", 'entities': [[7, 16, 'CANCELLATION']]}, {'text': 'got it wrong, sorry.', 'entities': [[0, 12, 'CANCELLATION']]}, {'text': \"incorrect, let's retry.\", 'entities': [[0, 9, 'CANCELLATION']]}, {'text': \"yes! perfect, that's exactly what i meant.\", 'entities': [[0, 3, 'CONFIRMATION']]}, {'text': 'right, no doubts there!', 'entities': [[0, 5, 'CONFIRMATION']]}, {'text': \"certainly! that's correct.\", 'entities': [[0, 9, 'CONFIRMATION']]}, {'text': \"that's right! no issues at all.\", 'entities': [[7, 12, 'CONFIRMATION']]}, {'text': \"yes, 100%! couldn't be more correct.\", 'entities': [[0, 3, 'CONFIRMATION']]}, {'text': \"no, that's just not accurate.\", 'entities': [[0, 2, 'CANCELLATION']]}, {'text': 'not happening, try again.', 'entities': [[0, 13, 'CANCELLATION']]}, {'text': 'nope, totally incorrect.', 'entities': [[0, 4, 'CANCELLATION']]}, {'text': \"that's not what i meant!\", 'entities': [[7, 23, 'CANCELLATION']]}, {'text': \"sorry, but that's a mistake.\", 'entities': [[11, 27, 'CANCELLATION']]}]\n"
     ]
    }
   ],
   "source": [
    "with open(\"dataset.json\", \"r\", encoding=\"utf-8\") as data_file:\n",
    "    TRAIN_DATA = json.load(data_file)\n",
    "\n",
    "print(TRAIN_DATA)"
   ]
  },
  {
   "cell_type": "markdown",
   "metadata": {},
   "source": [
    "### Initialization\n",
    "Initializing a blank **spaCy model** for *English* using `spacy.blank(\"en\")`, which means it starts **without** any pre-trained components. Since *Named Entity Recognition (NER)* is not included by default in a blank model, the script checks whether `\"ner\"` exists in the pipeline using `nlp.pipe_names`. If it's missing, it is added as the last component using `nlp.add_pipe(\"ner\", last=True)`; otherwise, it is retrieved with `nlp.get_pipe(\"ner\")`. This setup ensures that the model is ready for **custom NER training**, allowing users to add new *entity labels* and *fine-tune* the pipeline for specific tasks. "
   ]
  },
  {
   "cell_type": "code",
   "execution_count": 16,
   "metadata": {},
   "outputs": [],
   "source": [
    "# Load a blank English model\n",
    "nlp = spacy.blank(\"en\")\n",
    "\n",
    "# Add the NER component if it's not already present\n",
    "if \"ner\" not in nlp.pipe_names:\n",
    "    ner = nlp.add_pipe(\"ner\", last=True)\n",
    "else:\n",
    "    ner = nlp.get_pipe(\"ner\")"
   ]
  },
  {
   "cell_type": "code",
   "execution_count": 17,
   "metadata": {},
   "outputs": [],
   "source": [
    "# Add labels to the NER component\n",
    "for annotations in TRAIN_DATA:\n",
    "    for ent in annotations[\"entities\"]:\n",
    "        ner.add_label(ent[2])"
   ]
  },
  {
   "cell_type": "code",
   "execution_count": 18,
   "metadata": {},
   "outputs": [],
   "source": [
    "# Prepare training examples\n",
    "doc_bin = DocBin()\n",
    "for entry in TRAIN_DATA:\n",
    "    text, entities = entry[\"text\"], entry[\"entities\"]\n",
    "    doc = nlp.make_doc(text)\n",
    "    ents = []\n",
    "    for start, end, label in entities:\n",
    "        span = doc.char_span(start, end, label=label)\n",
    "        if span:\n",
    "            ents.append(span)\n",
    "    doc.ents = filter_spans(ents)\n",
    "    doc_bin.add(doc)"
   ]
  },
  {
   "cell_type": "code",
   "execution_count": 23,
   "metadata": {},
   "outputs": [
    {
     "name": "stdout",
     "output_type": "stream",
     "text": [
      "Iteration 1: Losses - {'ner': 266.9514953033406}\n",
      "Iteration 2: Losses - {'ner': 158.57662595444395}\n",
      "Iteration 3: Losses - {'ner': 55.897429910304105}\n",
      "Iteration 4: Losses - {'ner': 39.49342990110685}\n",
      "Iteration 5: Losses - {'ner': 31.9927255651757}\n",
      "Iteration 6: Losses - {'ner': 33.43191965979327}\n",
      "Iteration 7: Losses - {'ner': 27.43599794051017}\n",
      "Iteration 8: Losses - {'ner': 32.37325372173742}\n",
      "Iteration 9: Losses - {'ner': 17.655656157899028}\n",
      "Iteration 10: Losses - {'ner': 20.221603785471824}\n",
      "Iteration 11: Losses - {'ner': 14.446087777959207}\n",
      "Iteration 12: Losses - {'ner': 10.95844718598626}\n",
      "Iteration 13: Losses - {'ner': 12.31077861087616}\n",
      "Iteration 14: Losses - {'ner': 6.748391094371344}\n",
      "Iteration 15: Losses - {'ner': 8.045164329819347}\n",
      "Iteration 16: Losses - {'ner': 4.45930108275081}\n",
      "Iteration 17: Losses - {'ner': 4.742470326621835}\n",
      "Iteration 18: Losses - {'ner': 6.063788586199949}\n",
      "Iteration 19: Losses - {'ner': 2.961449849899621}\n",
      "Iteration 20: Losses - {'ner': 3.6243236456401844}\n",
      "Iteration 21: Losses - {'ner': 2.139360561500519}\n",
      "Iteration 22: Losses - {'ner': 4.107875808187994}\n",
      "Iteration 23: Losses - {'ner': 3.179859592774604}\n",
      "Iteration 24: Losses - {'ner': 10.794971170742395}\n",
      "Iteration 25: Losses - {'ner': 3.683640032377278}\n",
      "Iteration 26: Losses - {'ner': 5.890884887281494}\n",
      "Iteration 27: Losses - {'ner': 3.9277972342998577}\n",
      "Iteration 28: Losses - {'ner': 3.6512986686396265}\n",
      "Iteration 29: Losses - {'ner': 3.110332622677136}\n",
      "Iteration 30: Losses - {'ner': 6.598712407631878}\n",
      "Iteration 31: Losses - {'ner': 2.8893000806742135}\n",
      "Iteration 32: Losses - {'ner': 5.583992231867111}\n",
      "Iteration 33: Losses - {'ner': 6.990596064511614}\n",
      "Iteration 34: Losses - {'ner': 4.196345824796497}\n",
      "Iteration 35: Losses - {'ner': 12.597619952953288}\n",
      "Iteration 36: Losses - {'ner': 10.489494005601134}\n",
      "Iteration 37: Losses - {'ner': 10.046134909860998}\n",
      "Iteration 38: Losses - {'ner': 7.140004731281572}\n",
      "Iteration 39: Losses - {'ner': 15.017913081646102}\n",
      "Iteration 40: Losses - {'ner': 8.789262461868159}\n",
      "Iteration 41: Losses - {'ner': 3.583430164339745}\n",
      "Iteration 42: Losses - {'ner': 10.182939083086078}\n",
      "Iteration 43: Losses - {'ner': 4.548943072208248}\n",
      "Iteration 44: Losses - {'ner': 5.6985476928145795}\n",
      "Iteration 45: Losses - {'ner': 5.2596831713535055}\n",
      "Iteration 46: Losses - {'ner': 10.946120711400404}\n",
      "Iteration 47: Losses - {'ner': 3.946287904455593}\n",
      "Iteration 48: Losses - {'ner': 1.7496605027929704}\n",
      "Iteration 49: Losses - {'ner': 3.27750607043366}\n",
      "Iteration 50: Losses - {'ner': 1.1602870606240874}\n"
     ]
    }
   ],
   "source": [
    "# Training loop\n",
    "nlp.begin_training()\n",
    "optimizer = nlp.resume_training()\n",
    "\n",
    "for i in range(50):  # Training for 30 iterations\n",
    "    losses = {}\n",
    "    for entry in TRAIN_DATA:\n",
    "        text, entities = entry[\"text\"], {\"entities\": [(start, end, label) for start, end, label in entry[\"entities\"]]}\n",
    "        example = Example.from_dict(nlp.make_doc(text), entities)\n",
    "        nlp.update([example], drop=0.2, losses=losses)\n",
    "    print(f\"Iteration {i+1}: Losses - {losses}\")"
   ]
  },
  {
   "cell_type": "code",
   "execution_count": 25,
   "metadata": {},
   "outputs": [
    {
     "name": "stdout",
     "output_type": "stream",
     "text": [
      "Model saved successfully!\n"
     ]
    }
   ],
   "source": [
    "# Save the trained model\n",
    "nlp.to_disk(\"GC_model3.0\")\n",
    "print(\"Model saved successfully!\")"
   ]
  },
  {
   "cell_type": "code",
   "execution_count": null,
   "metadata": {},
   "outputs": [],
   "source": [
    "import matplotlib.pyplot as plt\n",
    "\n",
    "# Initialize a list to track loss per iteration\n",
    "loss_values = []\n",
    "\n",
    "# Training loop (replace previous loop with this)\n",
    "for i in range(50):\n",
    "    losses = {}\n",
    "    for entry in train_data:\n",
    "        text, annotations = entry[\"text\"], {\"entities\": entry[\"entities\"]}\n",
    "        example = Example.from_dict(nlp.make_doc(text), annotations)\n",
    "        nlp.update([example], drop=0.2, losses=losses)\n",
    "    loss = losses.get(\"ner\", 0)\n",
    "    loss_values.append(loss)\n",
    "    print(f\"Iteration {i+1}: Losses - {losses}\")\n",
    "\n",
    "# Plot training loss\n",
    "plt.figure(figsize=(8, 4))\n",
    "plt.plot(range(1, len(loss_values) + 1), loss_values, marker='o', linestyle='-', color='b')\n",
    "plt.title(\"Training Loss Over Iterations\")\n",
    "plt.xlabel(\"Iteration\")\n",
    "plt.ylabel(\"Loss\")\n",
    "plt.grid(True)\n",
    "plt.tight_layout()\n",
    "plt.show()\n",
    "\n",
    "# Evaluation metrics bar plot\n",
    "metrics = [\"Precision\", \"Recall\", \"F1-score\"]\n",
    "scores_values = [scores[\"ents_p\"], scores[\"ents_r\"], scores[\"ents_f\"]]\n",
    "\n",
    "plt.figure(figsize=(6, 4))\n",
    "plt.bar(metrics, scores_values, color=[\"green\", \"orange\", \"blue\"])\n",
    "plt.ylim(0, 100)\n",
    "plt.title(\"NER Evaluation Metrics\")\n",
    "plt.ylabel(\"Score (%)\")\n",
    "plt.tight_layout()\n",
    "plt.show()\n"
   ]
  },
  {
   "cell_type": "code",
   "execution_count": null,
   "metadata": {},
   "outputs": [],
   "source": [
    "# -----------------------------\n",
    "# Evaluation Code\n",
    "# -----------------------------\n",
    "\n",
    "from spacy.scorer import Scorer\n",
    "\n",
    "print(\"\\nEvaluating model...\")\n",
    "\n",
    "# Load the trained model\n",
    "nlp = spacy.load(\"GC_model3.0\")\n",
    "\n",
    "# Prepare examples\n",
    "examples = []\n",
    "for entry in eval_data:\n",
    "    text, annotations = entry[\"text\"], {\"entities\": entry[\"entities\"]}\n",
    "    examples.append(Example.from_dict(nlp.make_doc(text), annotations))\n",
    "\n",
    "# Use built-in spaCy scorer\n",
    "scorer = Scorer()\n",
    "scores = scorer.score(examples)\n",
    "\n",
    "# Print spaCy evaluation metrics\n",
    "print(\"\\nSpaCy Evaluation:\")\n",
    "print(f\"Precision: {scores['ents_p']:.3f}\")\n",
    "print(f\"Recall:    {scores['ents_r']:.3f}\")\n",
    "print(f\"F1-score:  {scores['ents_f']:.3f}\")\n",
    "\n",
    "# Print recognized entities from sample eval text\n",
    "print(\"\\nSample predictions from evaluation set:\")\n",
    "for entry in eval_data[:3]:\n",
    "    doc = nlp(entry[\"text\"])\n",
    "    print(f\"\\nText: {entry['text']}\")\n",
    "    print(\"Entities:\")\n",
    "    for ent in doc.ents:\n",
    "        print(f\"  {ent.text} ({ent.label_})\")"
   ]
  },
  {
   "cell_type": "markdown",
   "metadata": {},
   "source": [
    "## Using Trained Model"
   ]
  },
  {
   "cell_type": "code",
   "execution_count": 9,
   "metadata": {},
   "outputs": [
    {
     "name": "stdout",
     "output_type": "stream",
     "text": [
      "soy sauce - OBJECT\n",
      "table A - LOCATION\n",
      "12PM - TIME\n"
     ]
    }
   ],
   "source": [
    "import spacy\n",
    "\n",
    "# Load the trained model\n",
    "nlp = spacy.load(\"GC_model3.0\")\n",
    "\n",
    "# Test with a new sentence\n",
    "sentence = \"move the soy sauce to table A at 12PM\"\n",
    "doc = nlp(sentence)\n",
    "\n",
    "# Print the recognized entities\n",
    "for ent in doc.ents:\n",
    "    print(f\"{ent.text} - {ent.label_}\")"
   ]
  }
 ],
 "metadata": {
  "kernelspec": {
   "display_name": "Python 3",
   "language": "python",
   "name": "python3"
  },
  "language_info": {
   "codemirror_mode": {
    "name": "ipython",
    "version": 3
   },
   "file_extension": ".py",
   "mimetype": "text/x-python",
   "name": "python",
   "nbconvert_exporter": "python",
   "pygments_lexer": "ipython3",
   "version": "3.10.11"
  }
 },
 "nbformat": 4,
 "nbformat_minor": 2
}
