{
 "cells": [
  {
   "cell_type": "markdown",
   "metadata": {},
   "source": [
    "# Learning how I can utilize spacy\n",
    "\n",
    "- Spacy, a python lib, to be used in this project to train a model "
   ]
  },
  {
   "cell_type": "markdown",
   "metadata": {},
   "source": [
    "# Installation\n",
    "- Installing spacy using pip\n",
    "- Installing the pretrained EN NLP model for testing"
   ]
  },
  {
   "cell_type": "code",
   "execution_count": null,
   "metadata": {
    "vscode": {
     "languageId": "powershell"
    }
   },
   "outputs": [],
   "source": [
    "pip install spacy\n",
    "\n",
    "python -m spacy download en_core_web_sm"
   ]
  },
  {
   "cell_type": "markdown",
   "metadata": {},
   "source": [
    "## Importing Spacy and doing some trials\n",
    "\n",
    "- The bottom cell imports the `spacy` library and loads the English NLP model. It processes a sample text \"Apple is looking at buying a UK startup for $1 billion.\" to create a `doc` object. The code then iterates over the named entities in the `doc` and prints each entity's text and label."
   ]
  },
  {
   "cell_type": "code",
   "execution_count": 25,
   "metadata": {},
   "outputs": [
    {
     "name": "stdout",
     "output_type": "stream",
     "text": [
      "ANGA Hub ORG\n",
      "Western NORP\n",
      "$1 billion MONEY\n"
     ]
    }
   ],
   "source": [
    "import spacy\n",
    "\n",
    "# Load the English NLP model\n",
    "nlp = spacy.load(\"en_core_web_sm\")\n",
    "\n",
    "# Process a text\n",
    "doc = nlp(\"ANGA Hub is looking at buying a Western startup for $1 billion.\")\n",
    "\n",
    "# Extract entities\n",
    "for ent in doc.ents:\n",
    "    print(ent.text, ent.label_)"
   ]
  },
  {
   "cell_type": "markdown",
   "metadata": {},
   "source": [
    "## Training with Spacy\n",
    "### Libraries\n",
    "\n",
    "- importing all the required libraries\n",
    "    - `spacy` a powerful NLP framework used for training, fine-tuning, and deploying NER models\n",
    "    - `DocBin` is a utility for efficiently storing and serializing multiple Doc objects. During training, labeled examples (text + entity annotations) need to be converted into **spaCy’s** `Doc` **objects**. `DocBin` helps **store**, **serialize**, and **load** these efficiently, reducing memory usage.\n",
    "    - `Example` is used to create training instances that contain; the *input text* (`Doc`) and the correct *entity labels* (*annotations*). Essential for model training, as `Example` objects guide the model in learning patterns from labeled data.\n",
    "    -  `filter_spans()` helps resolve **overlapping entity annotations** by keeping only the most relevant ones. In cases where multiple entity spans overlap, `filter_spans` ensures that only **non-overlapping** and **meaningful** annotations are kept, improving model performance.\n",
    "    - `json` Allows handling of **JSON** files, which in this case have been used storing labeled *NER training data*.\n"
   ]
  },
  {
   "cell_type": "code",
   "execution_count": 1,
   "metadata": {},
   "outputs": [],
   "source": [
    "import spacy\n",
    "from spacy.tokens import DocBin\n",
    "from spacy.training.example import Example\n",
    "from spacy.util import filter_spans\n",
    "import json"
   ]
  },
  {
   "cell_type": "markdown",
   "metadata": {},
   "source": [
    "### Loading JSON data for training\n",
    "- Using the JSON imported library to open the training data from the JSON file, `data.json`."
   ]
  },
  {
   "cell_type": "code",
   "execution_count": 2,
   "metadata": {},
   "outputs": [
    {
     "name": "stdout",
     "output_type": "stream",
     "text": [
      "[{'text': 'Pick up the red box from table A and place it on table B at 4 PM.', 'entities': [[12, 19, 'OBJECT'], [25, 32, 'LOCATION'], [46, 53, 'LOCATION'], [57, 61, 'TIME']]}, {'text': 'Move the blue box to table 5 before 10 AM.', 'entities': [[9, 17, 'OBJECT'], [21, 28, 'LOCATION'], [36, 40, 'TIME']]}, {'text': 'Transport the yellow box to table C at 2:30 PM.', 'entities': [[13, 24, 'OBJECT'], [28, 35, 'LOCATION'], [39, 45, 'TIME']]}, {'text': 'Shift the small box from table 3 to table 7 by 5:15 PM.', 'entities': [[10, 20, 'OBJECT'], [26, 33, 'LOCATION'], [37, 44, 'LOCATION'], [48, 54, 'TIME']]}, {'text': 'Retrieve the green box from table X and set it up on table Y at noon.', 'entities': [[13, 23, 'OBJECT'], [29, 36, 'LOCATION'], [54, 61, 'LOCATION'], [65, 69, 'TIME']]}, {'text': 'Deliver the big box to table 12 by 3 PM.', 'entities': [[12, 20, 'OBJECT'], [24, 31, 'LOCATION'], [35, 38, 'TIME']]}, {'text': 'Move the brown box to table B before 8 AM.', 'entities': [[9, 18, 'OBJECT'], [22, 29, 'LOCATION'], [37, 40, 'TIME']]}, {'text': 'Send the package box to table A at 6:45 AM.', 'entities': [[9, 21, 'OBJECT'], [25, 32, 'LOCATION'], [36, 42, 'TIME']]}, {'text': 'Take the cardboard box to table D by 11 AM.', 'entities': [[9, 24, 'OBJECT'], [28, 35, 'LOCATION'], [39, 44, 'TIME']]}, {'text': 'Bring the heavy box from table 6 and place it on table 9 at 7 PM.', 'entities': [[11, 21, 'OBJECT'], [27, 34, 'LOCATION'], [52, 59, 'LOCATION'], [63, 67, 'TIME']]}, {'text': 'Lift the silver box from shelf 2 and transfer it to rack 5 at 1 PM.', 'entities': [[9, 20, 'OBJECT'], [26, 33, 'LOCATION'], [52, 59, 'LOCATION'], [63, 67, 'TIME']]}, {'text': 'Shift the white container from station X to station Y by 4:45 PM.', 'entities': [[10, 26, 'OBJECT'], [32, 41, 'LOCATION'], [45, 54, 'LOCATION'], [58, 64, 'TIME']]}, {'text': 'Move the orange crate to bin 3 before noon.', 'entities': [[9, 21, 'OBJECT'], [25, 30, 'LOCATION'], [38, 42, 'TIME']]}, {'text': 'Retrieve the black package from section 7 and drop it at section 12 at 9:30 AM.', 'entities': [[13, 27, 'OBJECT'], [33, 42, 'LOCATION'], [59, 68, 'LOCATION'], [72, 79, 'TIME']]}, {'text': 'Deliver the large parcel to counter B before 6 PM.', 'entities': [[12, 24, 'OBJECT'], [28, 36, 'LOCATION'], [44, 48, 'TIME']]}, {'text': 'Pick up the metallic box from desk 4 and set it on shelf 8 at 10:15 AM.', 'entities': [[12, 25, 'OBJECT'], [31, 37, 'LOCATION'], [51, 58, 'LOCATION'], [62, 70, 'TIME']]}, {'text': 'Transport the heavy crate to loading bay C at 7:30 PM.', 'entities': [[13, 25, 'OBJECT'], [29, 42, 'LOCATION'], [46, 53, 'TIME']]}, {'text': 'Move the white package from locker 11 and store it in locker 15 by 5 PM.', 'entities': [[9, 23, 'OBJECT'], [29, 37, 'LOCATION'], [56, 64, 'LOCATION'], [68, 71, 'TIME']]}, {'text': 'Take the wooden chest to zone A before 8:30 AM.', 'entities': [[9, 23, 'OBJECT'], [27, 33, 'LOCATION'], [41, 48, 'TIME']]}, {'text': 'Send the lightweight box to panel 2 at 11:45 AM.', 'entities': [[9, 26, 'OBJECT'], [30, 37, 'LOCATION'], [41, 49, 'TIME']]}, {'text': 'Retrieve the gold box from section F and move it to table 3 at 2 PM.', 'entities': [[13, 21, 'OBJECT'], [27, 36, 'LOCATION'], [54, 61, 'LOCATION'], [65, 68, 'TIME']]}, {'text': 'Transfer the fragile box from shelf 9 and place it on counter 7 at 3:30 PM.', 'entities': [[13, 25, 'OBJECT'], [31, 38, 'LOCATION'], [56, 65, 'LOCATION'], [69, 76, 'TIME']]}, {'text': 'Bring the steel package to cabinet 4 before midnight.', 'entities': [[11, 26, 'OBJECT'], [30, 39, 'LOCATION'], [47, 55, 'TIME']]}, {'text': 'Shift the red suitcase from floor 1 to floor 3 at 9 PM.', 'entities': [[10, 23, 'OBJECT'], [29, 36, 'LOCATION'], [40, 47, 'LOCATION'], [51, 55, 'TIME']]}, {'text': 'Pick up the gray container from dock A and load it onto truck B at 5:45 PM.', 'entities': [[12, 27, 'OBJECT'], [33, 39, 'LOCATION'], [57, 64, 'LOCATION'], [68, 74, 'TIME']]}, {'text': 'Move the lightweight box to conveyor 10 by 8:15 AM.', 'entities': [[9, 26, 'OBJECT'], [30, 41, 'LOCATION'], [45, 51, 'TIME']]}, {'text': 'Transport the sealed package to area Z before 6:30 AM.', 'entities': [[13, 27, 'OBJECT'], [31, 37, 'LOCATION'], [45, 52, 'TIME']]}, {'text': 'Lift the plastic container from bay 5 and place it in bay 9 by 4 PM.', 'entities': [[9, 27, 'OBJECT'], [33, 38, 'LOCATION'], [57, 62, 'LOCATION'], [66, 69, 'TIME']]}]\n"
     ]
    }
   ],
   "source": [
    "with open(\"data.json\", \"r\", encoding=\"utf-8\") as data_file:\n",
    "    TRAIN_DATA = json.load(data_file)\n",
    "\n",
    "print(TRAIN_DATA)"
   ]
  },
  {
   "cell_type": "markdown",
   "metadata": {},
   "source": [
    "### Initialization\n",
    "Initializing a blank **spaCy model** for *English* using `spacy.blank(\"en\")`, which means it starts **without** any pre-trained components. Since *Named Entity Recognition (NER)* is not included by default in a blank model, the script checks whether `\"ner\"` exists in the pipeline using `nlp.pipe_names`. If it's missing, it is added as the last component using `nlp.add_pipe(\"ner\", last=True)`; otherwise, it is retrieved with `nlp.get_pipe(\"ner\")`. This setup ensures that the model is ready for **custom NER training**, allowing users to add new *entity labels* and *fine-tune* the pipeline for specific tasks. "
   ]
  },
  {
   "cell_type": "code",
   "execution_count": 3,
   "metadata": {},
   "outputs": [],
   "source": [
    "# Load a blank English model\n",
    "nlp = spacy.blank(\"en\")\n",
    "\n",
    "# Add the NER component if it's not already present\n",
    "if \"ner\" not in nlp.pipe_names:\n",
    "    ner = nlp.add_pipe(\"ner\", last=True)\n",
    "else:\n",
    "    ner = nlp.get_pipe(\"ner\")"
   ]
  },
  {
   "cell_type": "code",
   "execution_count": 4,
   "metadata": {},
   "outputs": [],
   "source": [
    "# Add labels to the NER component\n",
    "for annotations in TRAIN_DATA:\n",
    "    for ent in annotations[\"entities\"]:\n",
    "        ner.add_label(ent[2])"
   ]
  },
  {
   "cell_type": "code",
   "execution_count": null,
   "metadata": {},
   "outputs": [],
   "source": [
    "# Prepare training examples\n",
    "doc_bin = DocBin()\n",
    "for text, annotations in TRAIN_DATA:\n",
    "    doc = nlp.make_doc(text)\n",
    "    ents = []\n",
    "    for start, end, label in annotations[\"entities\"]:\n",
    "        span = doc.char_span(start, end, label=label)\n",
    "        if span:\n",
    "            ents.append(span)\n",
    "    doc.ents = filter_spans(ents)\n",
    "    doc_bin.add(doc)"
   ]
  },
  {
   "cell_type": "code",
   "execution_count": null,
   "metadata": {},
   "outputs": [
    {
     "name": "stderr",
     "output_type": "stream",
     "text": [
      "C:\\Users\\User\\AppData\\Local\\Packages\\PythonSoftwareFoundation.Python.3.10_qbz5n2kfra8p0\\LocalCache\\local-packages\\Python310\\site-packages\\spacy\\training\\iob_utils.py:149: UserWarning: [W030] Some entities could not be aligned in the text \"Pick up the red box from table A and place it on t...\" with entities \"[(12, 19, 'OBJECT'), (25, 32, 'LOCATION'), (46, 53...\". Use `spacy.training.offsets_to_biluo_tags(nlp.make_doc(text), entities)` to check the alignment. Misaligned entities ('-') will be ignored during training.\n",
      "  warnings.warn(\n",
      "C:\\Users\\User\\AppData\\Local\\Packages\\PythonSoftwareFoundation.Python.3.10_qbz5n2kfra8p0\\LocalCache\\local-packages\\Python310\\site-packages\\spacy\\training\\iob_utils.py:149: UserWarning: [W030] Some entities could not be aligned in the text \"Move the blue box to table 5 before 10 AM.\" with entities \"[(9, 17, 'OBJECT'), (21, 28, 'LOCATION'), (36, 40,...\". Use `spacy.training.offsets_to_biluo_tags(nlp.make_doc(text), entities)` to check the alignment. Misaligned entities ('-') will be ignored during training.\n",
      "  warnings.warn(\n",
      "C:\\Users\\User\\AppData\\Local\\Packages\\PythonSoftwareFoundation.Python.3.10_qbz5n2kfra8p0\\LocalCache\\local-packages\\Python310\\site-packages\\spacy\\training\\iob_utils.py:149: UserWarning: [W030] Some entities could not be aligned in the text \"Transport the yellow box to table C at 2:30 PM.\" with entities \"[(13, 24, 'OBJECT'), (28, 35, 'LOCATION'), (39, 45...\". Use `spacy.training.offsets_to_biluo_tags(nlp.make_doc(text), entities)` to check the alignment. Misaligned entities ('-') will be ignored during training.\n",
      "  warnings.warn(\n",
      "C:\\Users\\User\\AppData\\Local\\Packages\\PythonSoftwareFoundation.Python.3.10_qbz5n2kfra8p0\\LocalCache\\local-packages\\Python310\\site-packages\\spacy\\training\\iob_utils.py:149: UserWarning: [W030] Some entities could not be aligned in the text \"Shift the small box from table 3 to table 7 by 5:1...\" with entities \"[(10, 20, 'OBJECT'), (26, 33, 'LOCATION'), (37, 44...\". Use `spacy.training.offsets_to_biluo_tags(nlp.make_doc(text), entities)` to check the alignment. Misaligned entities ('-') will be ignored during training.\n",
      "  warnings.warn(\n",
      "C:\\Users\\User\\AppData\\Local\\Packages\\PythonSoftwareFoundation.Python.3.10_qbz5n2kfra8p0\\LocalCache\\local-packages\\Python310\\site-packages\\spacy\\training\\iob_utils.py:149: UserWarning: [W030] Some entities could not be aligned in the text \"Retrieve the green box from table X and set it up ...\" with entities \"[(13, 23, 'OBJECT'), (29, 36, 'LOCATION'), (54, 61...\". Use `spacy.training.offsets_to_biluo_tags(nlp.make_doc(text), entities)` to check the alignment. Misaligned entities ('-') will be ignored during training.\n",
      "  warnings.warn(\n",
      "C:\\Users\\User\\AppData\\Local\\Packages\\PythonSoftwareFoundation.Python.3.10_qbz5n2kfra8p0\\LocalCache\\local-packages\\Python310\\site-packages\\spacy\\training\\iob_utils.py:149: UserWarning: [W030] Some entities could not be aligned in the text \"Deliver the big box to table 12 by 3 PM.\" with entities \"[(12, 20, 'OBJECT'), (24, 31, 'LOCATION'), (35, 38...\". Use `spacy.training.offsets_to_biluo_tags(nlp.make_doc(text), entities)` to check the alignment. Misaligned entities ('-') will be ignored during training.\n",
      "  warnings.warn(\n",
      "C:\\Users\\User\\AppData\\Local\\Packages\\PythonSoftwareFoundation.Python.3.10_qbz5n2kfra8p0\\LocalCache\\local-packages\\Python310\\site-packages\\spacy\\training\\iob_utils.py:149: UserWarning: [W030] Some entities could not be aligned in the text \"Move the brown box to table B before 8 AM.\" with entities \"[(9, 18, 'OBJECT'), (22, 29, 'LOCATION'), (37, 40,...\". Use `spacy.training.offsets_to_biluo_tags(nlp.make_doc(text), entities)` to check the alignment. Misaligned entities ('-') will be ignored during training.\n",
      "  warnings.warn(\n",
      "C:\\Users\\User\\AppData\\Local\\Packages\\PythonSoftwareFoundation.Python.3.10_qbz5n2kfra8p0\\LocalCache\\local-packages\\Python310\\site-packages\\spacy\\training\\iob_utils.py:149: UserWarning: [W030] Some entities could not be aligned in the text \"Send the package box to table A at 6:45 AM.\" with entities \"[(9, 21, 'OBJECT'), (25, 32, 'LOCATION'), (36, 42,...\". Use `spacy.training.offsets_to_biluo_tags(nlp.make_doc(text), entities)` to check the alignment. Misaligned entities ('-') will be ignored during training.\n",
      "  warnings.warn(\n",
      "C:\\Users\\User\\AppData\\Local\\Packages\\PythonSoftwareFoundation.Python.3.10_qbz5n2kfra8p0\\LocalCache\\local-packages\\Python310\\site-packages\\spacy\\training\\iob_utils.py:149: UserWarning: [W030] Some entities could not be aligned in the text \"Take the cardboard box to table D by 11 AM.\" with entities \"[(9, 24, 'OBJECT'), (28, 35, 'LOCATION'), (39, 44,...\". Use `spacy.training.offsets_to_biluo_tags(nlp.make_doc(text), entities)` to check the alignment. Misaligned entities ('-') will be ignored during training.\n",
      "  warnings.warn(\n",
      "C:\\Users\\User\\AppData\\Local\\Packages\\PythonSoftwareFoundation.Python.3.10_qbz5n2kfra8p0\\LocalCache\\local-packages\\Python310\\site-packages\\spacy\\training\\iob_utils.py:149: UserWarning: [W030] Some entities could not be aligned in the text \"Bring the heavy box from table 6 and place it on t...\" with entities \"[(11, 21, 'OBJECT'), (27, 34, 'LOCATION'), (52, 59...\". Use `spacy.training.offsets_to_biluo_tags(nlp.make_doc(text), entities)` to check the alignment. Misaligned entities ('-') will be ignored during training.\n",
      "  warnings.warn(\n",
      "C:\\Users\\User\\AppData\\Local\\Packages\\PythonSoftwareFoundation.Python.3.10_qbz5n2kfra8p0\\LocalCache\\local-packages\\Python310\\site-packages\\spacy\\training\\iob_utils.py:149: UserWarning: [W030] Some entities could not be aligned in the text \"Lift the silver box from shelf 2 and transfer it t...\" with entities \"[(9, 20, 'OBJECT'), (26, 33, 'LOCATION'), (52, 59,...\". Use `spacy.training.offsets_to_biluo_tags(nlp.make_doc(text), entities)` to check the alignment. Misaligned entities ('-') will be ignored during training.\n",
      "  warnings.warn(\n",
      "C:\\Users\\User\\AppData\\Local\\Packages\\PythonSoftwareFoundation.Python.3.10_qbz5n2kfra8p0\\LocalCache\\local-packages\\Python310\\site-packages\\spacy\\training\\iob_utils.py:149: UserWarning: [W030] Some entities could not be aligned in the text \"Shift the white container from station X to statio...\" with entities \"[(10, 26, 'OBJECT'), (32, 41, 'LOCATION'), (45, 54...\". Use `spacy.training.offsets_to_biluo_tags(nlp.make_doc(text), entities)` to check the alignment. Misaligned entities ('-') will be ignored during training.\n",
      "  warnings.warn(\n",
      "C:\\Users\\User\\AppData\\Local\\Packages\\PythonSoftwareFoundation.Python.3.10_qbz5n2kfra8p0\\LocalCache\\local-packages\\Python310\\site-packages\\spacy\\training\\iob_utils.py:149: UserWarning: [W030] Some entities could not be aligned in the text \"Retrieve the black package from section 7 and drop...\" with entities \"[(13, 27, 'OBJECT'), (33, 42, 'LOCATION'), (59, 68...\". Use `spacy.training.offsets_to_biluo_tags(nlp.make_doc(text), entities)` to check the alignment. Misaligned entities ('-') will be ignored during training.\n",
      "  warnings.warn(\n",
      "C:\\Users\\User\\AppData\\Local\\Packages\\PythonSoftwareFoundation.Python.3.10_qbz5n2kfra8p0\\LocalCache\\local-packages\\Python310\\site-packages\\spacy\\training\\iob_utils.py:149: UserWarning: [W030] Some entities could not be aligned in the text \"Deliver the large parcel to counter B before 6 PM.\" with entities \"[(12, 24, 'OBJECT'), (28, 36, 'LOCATION'), (44, 48...\". Use `spacy.training.offsets_to_biluo_tags(nlp.make_doc(text), entities)` to check the alignment. Misaligned entities ('-') will be ignored during training.\n",
      "  warnings.warn(\n",
      "C:\\Users\\User\\AppData\\Local\\Packages\\PythonSoftwareFoundation.Python.3.10_qbz5n2kfra8p0\\LocalCache\\local-packages\\Python310\\site-packages\\spacy\\training\\iob_utils.py:149: UserWarning: [W030] Some entities could not be aligned in the text \"Pick up the metallic box from desk 4 and set it on...\" with entities \"[(12, 25, 'OBJECT'), (31, 37, 'LOCATION'), (51, 58...\". Use `spacy.training.offsets_to_biluo_tags(nlp.make_doc(text), entities)` to check the alignment. Misaligned entities ('-') will be ignored during training.\n",
      "  warnings.warn(\n",
      "C:\\Users\\User\\AppData\\Local\\Packages\\PythonSoftwareFoundation.Python.3.10_qbz5n2kfra8p0\\LocalCache\\local-packages\\Python310\\site-packages\\spacy\\training\\iob_utils.py:149: UserWarning: [W030] Some entities could not be aligned in the text \"Transport the heavy crate to loading bay C at 7:30...\" with entities \"[(13, 25, 'OBJECT'), (29, 42, 'LOCATION'), (46, 53...\". Use `spacy.training.offsets_to_biluo_tags(nlp.make_doc(text), entities)` to check the alignment. Misaligned entities ('-') will be ignored during training.\n",
      "  warnings.warn(\n",
      "C:\\Users\\User\\AppData\\Local\\Packages\\PythonSoftwareFoundation.Python.3.10_qbz5n2kfra8p0\\LocalCache\\local-packages\\Python310\\site-packages\\spacy\\training\\iob_utils.py:149: UserWarning: [W030] Some entities could not be aligned in the text \"Move the white package from locker 11 and store it...\" with entities \"[(9, 23, 'OBJECT'), (29, 37, 'LOCATION'), (56, 64,...\". Use `spacy.training.offsets_to_biluo_tags(nlp.make_doc(text), entities)` to check the alignment. Misaligned entities ('-') will be ignored during training.\n",
      "  warnings.warn(\n",
      "C:\\Users\\User\\AppData\\Local\\Packages\\PythonSoftwareFoundation.Python.3.10_qbz5n2kfra8p0\\LocalCache\\local-packages\\Python310\\site-packages\\spacy\\training\\iob_utils.py:149: UserWarning: [W030] Some entities could not be aligned in the text \"Take the wooden chest to zone A before 8:30 AM.\" with entities \"[(9, 23, 'OBJECT'), (27, 33, 'LOCATION'), (41, 48,...\". Use `spacy.training.offsets_to_biluo_tags(nlp.make_doc(text), entities)` to check the alignment. Misaligned entities ('-') will be ignored during training.\n",
      "  warnings.warn(\n",
      "C:\\Users\\User\\AppData\\Local\\Packages\\PythonSoftwareFoundation.Python.3.10_qbz5n2kfra8p0\\LocalCache\\local-packages\\Python310\\site-packages\\spacy\\training\\iob_utils.py:149: UserWarning: [W030] Some entities could not be aligned in the text \"Send the lightweight box to panel 2 at 11:45 AM.\" with entities \"[(9, 26, 'OBJECT'), (30, 37, 'LOCATION'), (41, 49,...\". Use `spacy.training.offsets_to_biluo_tags(nlp.make_doc(text), entities)` to check the alignment. Misaligned entities ('-') will be ignored during training.\n",
      "  warnings.warn(\n",
      "C:\\Users\\User\\AppData\\Local\\Packages\\PythonSoftwareFoundation.Python.3.10_qbz5n2kfra8p0\\LocalCache\\local-packages\\Python310\\site-packages\\spacy\\training\\iob_utils.py:149: UserWarning: [W030] Some entities could not be aligned in the text \"Retrieve the gold box from section F and move it t...\" with entities \"[(13, 21, 'OBJECT'), (27, 36, 'LOCATION'), (54, 61...\". Use `spacy.training.offsets_to_biluo_tags(nlp.make_doc(text), entities)` to check the alignment. Misaligned entities ('-') will be ignored during training.\n",
      "  warnings.warn(\n",
      "C:\\Users\\User\\AppData\\Local\\Packages\\PythonSoftwareFoundation.Python.3.10_qbz5n2kfra8p0\\LocalCache\\local-packages\\Python310\\site-packages\\spacy\\training\\iob_utils.py:149: UserWarning: [W030] Some entities could not be aligned in the text \"Transfer the fragile box from shelf 9 and place it...\" with entities \"[(13, 25, 'OBJECT'), (31, 38, 'LOCATION'), (56, 65...\". Use `spacy.training.offsets_to_biluo_tags(nlp.make_doc(text), entities)` to check the alignment. Misaligned entities ('-') will be ignored during training.\n",
      "  warnings.warn(\n",
      "C:\\Users\\User\\AppData\\Local\\Packages\\PythonSoftwareFoundation.Python.3.10_qbz5n2kfra8p0\\LocalCache\\local-packages\\Python310\\site-packages\\spacy\\training\\iob_utils.py:149: UserWarning: [W030] Some entities could not be aligned in the text \"Bring the steel package to cabinet 4 before midnig...\" with entities \"[(11, 26, 'OBJECT'), (30, 39, 'LOCATION'), (47, 55...\". Use `spacy.training.offsets_to_biluo_tags(nlp.make_doc(text), entities)` to check the alignment. Misaligned entities ('-') will be ignored during training.\n",
      "  warnings.warn(\n",
      "C:\\Users\\User\\AppData\\Local\\Packages\\PythonSoftwareFoundation.Python.3.10_qbz5n2kfra8p0\\LocalCache\\local-packages\\Python310\\site-packages\\spacy\\training\\iob_utils.py:149: UserWarning: [W030] Some entities could not be aligned in the text \"Shift the red suitcase from floor 1 to floor 3 at ...\" with entities \"[(10, 23, 'OBJECT'), (29, 36, 'LOCATION'), (40, 47...\". Use `spacy.training.offsets_to_biluo_tags(nlp.make_doc(text), entities)` to check the alignment. Misaligned entities ('-') will be ignored during training.\n",
      "  warnings.warn(\n",
      "C:\\Users\\User\\AppData\\Local\\Packages\\PythonSoftwareFoundation.Python.3.10_qbz5n2kfra8p0\\LocalCache\\local-packages\\Python310\\site-packages\\spacy\\training\\iob_utils.py:149: UserWarning: [W030] Some entities could not be aligned in the text \"Pick up the gray container from dock A and load it...\" with entities \"[(12, 27, 'OBJECT'), (33, 39, 'LOCATION'), (57, 64...\". Use `spacy.training.offsets_to_biluo_tags(nlp.make_doc(text), entities)` to check the alignment. Misaligned entities ('-') will be ignored during training.\n",
      "  warnings.warn(\n",
      "C:\\Users\\User\\AppData\\Local\\Packages\\PythonSoftwareFoundation.Python.3.10_qbz5n2kfra8p0\\LocalCache\\local-packages\\Python310\\site-packages\\spacy\\training\\iob_utils.py:149: UserWarning: [W030] Some entities could not be aligned in the text \"Move the lightweight box to conveyor 10 by 8:15 AM...\" with entities \"[(9, 26, 'OBJECT'), (30, 41, 'LOCATION'), (45, 51,...\". Use `spacy.training.offsets_to_biluo_tags(nlp.make_doc(text), entities)` to check the alignment. Misaligned entities ('-') will be ignored during training.\n",
      "  warnings.warn(\n",
      "C:\\Users\\User\\AppData\\Local\\Packages\\PythonSoftwareFoundation.Python.3.10_qbz5n2kfra8p0\\LocalCache\\local-packages\\Python310\\site-packages\\spacy\\training\\iob_utils.py:149: UserWarning: [W030] Some entities could not be aligned in the text \"Transport the sealed package to area Z before 6:30...\" with entities \"[(13, 27, 'OBJECT'), (31, 37, 'LOCATION'), (45, 52...\". Use `spacy.training.offsets_to_biluo_tags(nlp.make_doc(text), entities)` to check the alignment. Misaligned entities ('-') will be ignored during training.\n",
      "  warnings.warn(\n",
      "C:\\Users\\User\\AppData\\Local\\Packages\\PythonSoftwareFoundation.Python.3.10_qbz5n2kfra8p0\\LocalCache\\local-packages\\Python310\\site-packages\\spacy\\training\\iob_utils.py:149: UserWarning: [W030] Some entities could not be aligned in the text \"Lift the plastic container from bay 5 and place it...\" with entities \"[(9, 27, 'OBJECT'), (33, 38, 'LOCATION'), (57, 62,...\". Use `spacy.training.offsets_to_biluo_tags(nlp.make_doc(text), entities)` to check the alignment. Misaligned entities ('-') will be ignored during training.\n",
      "  warnings.warn(\n"
     ]
    },
    {
     "name": "stdout",
     "output_type": "stream",
     "text": [
      "Iteration 1: Losses - {'ner': 101.67150656813548}\n",
      "Iteration 2: Losses - {'ner': 37.60334010249971}\n",
      "Iteration 3: Losses - {'ner': 32.16715796887578}\n",
      "Iteration 4: Losses - {'ner': 39.83000926843897}\n",
      "Iteration 5: Losses - {'ner': 37.16629142423336}\n",
      "Iteration 6: Losses - {'ner': 17.3953892072243}\n",
      "Iteration 7: Losses - {'ner': 13.633921551028623}\n",
      "Iteration 8: Losses - {'ner': 12.374973254719581}\n",
      "Iteration 9: Losses - {'ner': 11.464808898951325}\n",
      "Iteration 10: Losses - {'ner': 16.02827886002787}\n",
      "Iteration 11: Losses - {'ner': 14.738978374450632}\n",
      "Iteration 12: Losses - {'ner': 13.269475577507045}\n",
      "Iteration 13: Losses - {'ner': 9.196134885464357}\n",
      "Iteration 14: Losses - {'ner': 6.996138207939732}\n",
      "Iteration 15: Losses - {'ner': 7.794066351309302}\n",
      "Iteration 16: Losses - {'ner': 2.618262086647651}\n",
      "Iteration 17: Losses - {'ner': 1.8945431576479757}\n",
      "Iteration 18: Losses - {'ner': 6.58648641994138}\n",
      "Iteration 19: Losses - {'ner': 1.8793278869173617}\n",
      "Iteration 20: Losses - {'ner': 3.9072475739671173}\n",
      "Iteration 21: Losses - {'ner': 3.922924037434818}\n",
      "Iteration 22: Losses - {'ner': 2.035365875318038}\n",
      "Iteration 23: Losses - {'ner': 3.0332717568349246}\n",
      "Iteration 24: Losses - {'ner': 2.780589156187835}\n",
      "Iteration 25: Losses - {'ner': 0.07657036871945071}\n",
      "Iteration 26: Losses - {'ner': 1.821046162144437}\n",
      "Iteration 27: Losses - {'ner': 0.18472267426591726}\n",
      "Iteration 28: Losses - {'ner': 2.406616544360659}\n",
      "Iteration 29: Losses - {'ner': 3.269401452254244}\n",
      "Iteration 30: Losses - {'ner': 1.8866717180970125}\n"
     ]
    }
   ],
   "source": [
    "# Training loop\n",
    "nlp.begin_training()\n",
    "optimizer = nlp.resume_training()\n",
    "\n",
    "for i in range(30):  # Training for 30 iterations\n",
    "    losses = {}\n",
    "    for text, annotations in TRAIN_DATA:\n",
    "        example = Example.from_dict(nlp.make_doc(text), annotations)\n",
    "        nlp.update([example], drop=0.3, losses=losses)\n",
    "    print(f\"Iteration {i+1}: Losses - {losses}\")"
   ]
  },
  {
   "cell_type": "code",
   "execution_count": null,
   "metadata": {},
   "outputs": [
    {
     "name": "stdout",
     "output_type": "stream",
     "text": [
      "Model saved successfully!\n"
     ]
    }
   ],
   "source": [
    "# Save the trained model\n",
    "nlp.to_disk(\"ner_GC_model\")\n",
    "print(\"Model saved successfully!\")"
   ]
  },
  {
   "cell_type": "markdown",
   "metadata": {},
   "source": [
    "## Using Trained Model"
   ]
  },
  {
   "cell_type": "code",
   "execution_count": 5,
   "metadata": {},
   "outputs": [
    {
     "name": "stdout",
     "output_type": "stream",
     "text": [
      "ketchup box - OBJECT\n",
      "Shelf A - LOCATION\n",
      "table 3E - LOCATION\n"
     ]
    }
   ],
   "source": [
    "import spacy\n",
    "\n",
    "# Load the trained model\n",
    "nlp = spacy.load(\"ner_GC_model\")\n",
    "\n",
    "# Test with a new sentence\n",
    "sentence = \"Pick the ketchup box from Shelf A to the table 3E at 12 PM\"\n",
    "doc = nlp(sentence)\n",
    "\n",
    "# Print the recognized entities\n",
    "for ent in doc.ents:\n",
    "    print(f\"{ent.text} - {ent.label_}\")"
   ]
  }
 ],
 "metadata": {
  "kernelspec": {
   "display_name": "Python 3",
   "language": "python",
   "name": "python3"
  },
  "language_info": {
   "codemirror_mode": {
    "name": "ipython",
    "version": 3
   },
   "file_extension": ".py",
   "mimetype": "text/x-python",
   "name": "python",
   "nbconvert_exporter": "python",
   "pygments_lexer": "ipython3",
   "version": "3.10.11"
  }
 },
 "nbformat": 4,
 "nbformat_minor": 2
}
